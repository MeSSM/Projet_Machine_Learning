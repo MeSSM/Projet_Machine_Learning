{
 "cells": [
  {
   "cell_type": "code",
   "execution_count": 19,
   "metadata": {
    "collapsed": true
   },
   "outputs": [],
   "source": [
    "import pandas as pd\n",
    "import seaborn as sns\n",
    "import matplotlib.pyplot as plt\n",
    "import os\n",
    "import warnings\n",
    "warnings.simplefilter('ignore')\n",
    "from mpl_toolkits.basemap import Basemap\n",
    "import sweetviz\n",
    "from sklearn.preprocessing import LabelEncoder\n",
    "from sklearn.model_selection import train_test_split\n",
    "from sklearn.linear_model import LinearRegression\n",
    "from sklearn.ensemble import RandomForestRegressor\n",
    "from sklearn.neighbors import KNeighborsRegressor\n",
    "from sklearn.model_selection import cross_val_score, KFold"
   ]
  },
  {
   "cell_type": "code",
   "execution_count": 4,
   "outputs": [
    {
     "data": {
      "text/plain": "           id                                                url  \\\n0  7222695916  https://prescott.craigslist.org/cto/d/prescott...   \n1  7218891961  https://fayar.craigslist.org/ctd/d/bentonville...   \n2  7221797935  https://keys.craigslist.org/cto/d/summerland-k...   \n3  7222270760  https://worcester.craigslist.org/cto/d/west-br...   \n4  7210384030  https://greensboro.craigslist.org/cto/d/trinit...   \n\n                   region                         region_url  price  year  \\\n0                prescott    https://prescott.craigslist.org   6000   NaN   \n1            fayetteville       https://fayar.craigslist.org  11900   NaN   \n2            florida keys        https://keys.craigslist.org  21000   NaN   \n3  worcester / central MA   https://worcester.craigslist.org   1500   NaN   \n4              greensboro  https://greensboro.craigslist.org   4900   NaN   \n\n  manufacturer model condition cylinders  ... size  type paint_color  \\\n0          NaN   NaN       NaN       NaN  ...  NaN   NaN         NaN   \n1          NaN   NaN       NaN       NaN  ...  NaN   NaN         NaN   \n2          NaN   NaN       NaN       NaN  ...  NaN   NaN         NaN   \n3          NaN   NaN       NaN       NaN  ...  NaN   NaN         NaN   \n4          NaN   NaN       NaN       NaN  ...  NaN   NaN         NaN   \n\n  image_url description county state lat long posting_date  \n0       NaN         NaN    NaN    az NaN  NaN          NaN  \n1       NaN         NaN    NaN    ar NaN  NaN          NaN  \n2       NaN         NaN    NaN    fl NaN  NaN          NaN  \n3       NaN         NaN    NaN    ma NaN  NaN          NaN  \n4       NaN         NaN    NaN    nc NaN  NaN          NaN  \n\n[5 rows x 26 columns]",
      "text/html": "<div>\n<style scoped>\n    .dataframe tbody tr th:only-of-type {\n        vertical-align: middle;\n    }\n\n    .dataframe tbody tr th {\n        vertical-align: top;\n    }\n\n    .dataframe thead th {\n        text-align: right;\n    }\n</style>\n<table border=\"1\" class=\"dataframe\">\n  <thead>\n    <tr style=\"text-align: right;\">\n      <th></th>\n      <th>id</th>\n      <th>url</th>\n      <th>region</th>\n      <th>region_url</th>\n      <th>price</th>\n      <th>year</th>\n      <th>manufacturer</th>\n      <th>model</th>\n      <th>condition</th>\n      <th>cylinders</th>\n      <th>...</th>\n      <th>size</th>\n      <th>type</th>\n      <th>paint_color</th>\n      <th>image_url</th>\n      <th>description</th>\n      <th>county</th>\n      <th>state</th>\n      <th>lat</th>\n      <th>long</th>\n      <th>posting_date</th>\n    </tr>\n  </thead>\n  <tbody>\n    <tr>\n      <th>0</th>\n      <td>7222695916</td>\n      <td>https://prescott.craigslist.org/cto/d/prescott...</td>\n      <td>prescott</td>\n      <td>https://prescott.craigslist.org</td>\n      <td>6000</td>\n      <td>NaN</td>\n      <td>NaN</td>\n      <td>NaN</td>\n      <td>NaN</td>\n      <td>NaN</td>\n      <td>...</td>\n      <td>NaN</td>\n      <td>NaN</td>\n      <td>NaN</td>\n      <td>NaN</td>\n      <td>NaN</td>\n      <td>NaN</td>\n      <td>az</td>\n      <td>NaN</td>\n      <td>NaN</td>\n      <td>NaN</td>\n    </tr>\n    <tr>\n      <th>1</th>\n      <td>7218891961</td>\n      <td>https://fayar.craigslist.org/ctd/d/bentonville...</td>\n      <td>fayetteville</td>\n      <td>https://fayar.craigslist.org</td>\n      <td>11900</td>\n      <td>NaN</td>\n      <td>NaN</td>\n      <td>NaN</td>\n      <td>NaN</td>\n      <td>NaN</td>\n      <td>...</td>\n      <td>NaN</td>\n      <td>NaN</td>\n      <td>NaN</td>\n      <td>NaN</td>\n      <td>NaN</td>\n      <td>NaN</td>\n      <td>ar</td>\n      <td>NaN</td>\n      <td>NaN</td>\n      <td>NaN</td>\n    </tr>\n    <tr>\n      <th>2</th>\n      <td>7221797935</td>\n      <td>https://keys.craigslist.org/cto/d/summerland-k...</td>\n      <td>florida keys</td>\n      <td>https://keys.craigslist.org</td>\n      <td>21000</td>\n      <td>NaN</td>\n      <td>NaN</td>\n      <td>NaN</td>\n      <td>NaN</td>\n      <td>NaN</td>\n      <td>...</td>\n      <td>NaN</td>\n      <td>NaN</td>\n      <td>NaN</td>\n      <td>NaN</td>\n      <td>NaN</td>\n      <td>NaN</td>\n      <td>fl</td>\n      <td>NaN</td>\n      <td>NaN</td>\n      <td>NaN</td>\n    </tr>\n    <tr>\n      <th>3</th>\n      <td>7222270760</td>\n      <td>https://worcester.craigslist.org/cto/d/west-br...</td>\n      <td>worcester / central MA</td>\n      <td>https://worcester.craigslist.org</td>\n      <td>1500</td>\n      <td>NaN</td>\n      <td>NaN</td>\n      <td>NaN</td>\n      <td>NaN</td>\n      <td>NaN</td>\n      <td>...</td>\n      <td>NaN</td>\n      <td>NaN</td>\n      <td>NaN</td>\n      <td>NaN</td>\n      <td>NaN</td>\n      <td>NaN</td>\n      <td>ma</td>\n      <td>NaN</td>\n      <td>NaN</td>\n      <td>NaN</td>\n    </tr>\n    <tr>\n      <th>4</th>\n      <td>7210384030</td>\n      <td>https://greensboro.craigslist.org/cto/d/trinit...</td>\n      <td>greensboro</td>\n      <td>https://greensboro.craigslist.org</td>\n      <td>4900</td>\n      <td>NaN</td>\n      <td>NaN</td>\n      <td>NaN</td>\n      <td>NaN</td>\n      <td>NaN</td>\n      <td>...</td>\n      <td>NaN</td>\n      <td>NaN</td>\n      <td>NaN</td>\n      <td>NaN</td>\n      <td>NaN</td>\n      <td>NaN</td>\n      <td>nc</td>\n      <td>NaN</td>\n      <td>NaN</td>\n      <td>NaN</td>\n    </tr>\n  </tbody>\n</table>\n<p>5 rows × 26 columns</p>\n</div>"
     },
     "execution_count": 4,
     "metadata": {},
     "output_type": "execute_result"
    }
   ],
   "source": [
    "dataFrame = pd.read_csv('vehicles.csv')\n",
    "dataFrame.head()"
   ],
   "metadata": {
    "collapsed": false,
    "pycharm": {
     "name": "#%%\n"
    }
   }
  },
  {
   "cell_type": "code",
   "execution_count": 5,
   "outputs": [
    {
     "data": {
      "text/plain": "<Figure size 1476x468 with 1 Axes>",
      "image/png": "[encoded data removed]"
     },
     "metadata": {
      "needs_background": "light"
     },
     "output_type": "display_data"
    }
   ],
   "source": [
    "plt.figure(figsize = (20.5, 6.5))\n",
    "plt.bar(dataFrame.columns, dataFrame.isna().sum())\n",
    "plt.tick_params('x',labelrotation=90)\n",
    "plt.ylabel('Missing values')\n",
    "plt.show()"
   ],
   "metadata": {
    "collapsed": false,
    "pycharm": {
     "name": "#%%\n"
    }
   }
  },
  {
   "cell_type": "code",
   "execution_count": 6,
   "outputs": [],
   "source": [
    "columnsToDrop = ['id', 'region', 'url', 'region_url', 'description', 'image_url', 'lat', 'long', 'posting_date', 'county', 'VIN', 'size']\n",
    "dataFrame.drop(columnsToDrop, axis = 1, inplace = True)"
   ],
   "metadata": {
    "collapsed": false,
    "pycharm": {
     "name": "#%%\n"
    }
   }
  },
  {
   "cell_type": "code",
   "execution_count": 7,
   "outputs": [
    {
     "data": {
      "text/plain": "(380441, 14)"
     },
     "execution_count": 7,
     "metadata": {},
     "output_type": "execute_result"
    }
   ],
   "source": [
    "dataFrame = dataFrame[(dataFrame.price >= 1000) & (dataFrame.price <= 200000)]\n",
    "dataFrame.shape"
   ],
   "metadata": {
    "collapsed": false,
    "pycharm": {
     "name": "#%%\n"
    }
   }
  },
  {
   "cell_type": "code",
   "execution_count": 8,
   "outputs": [
    {
     "data": {
      "text/plain": "(109348, 14)"
     },
     "execution_count": 8,
     "metadata": {},
     "output_type": "execute_result"
    }
   ],
   "source": [
    "dataFrame.dropna(inplace = True)\n",
    "dataFrame.shape"
   ],
   "metadata": {
    "collapsed": false,
    "pycharm": {
     "name": "#%%\n"
    }
   }
  },
  {
   "cell_type": "code",
   "execution_count": 9,
   "outputs": [
    {
     "data": {
      "text/plain": "                                             |          | [  0%]   00:00 -> (? left)",
      "application/vnd.jupyter.widget-view+json": {
       "version_major": 2,
       "version_minor": 0,
       "model_id": "28a347b6267e4aeea6596252953093cf"
      }
     },
     "metadata": {},
     "output_type": "display_data"
    },
    {
     "name": "stdout",
     "output_type": "stream",
     "text": [
      "Report report.html was generated! NOTEBOOK/COLAB USERS: the web browser MAY not pop up, regardless, the report IS saved in your notebook/colab files.\n"
     ]
    }
   ],
   "source": [
    "report = sweetviz.analyze([dataFrame, 'Cars'], target_feat='price')\n",
    "report.show_html('report.html')"
   ],
   "metadata": {
    "collapsed": false,
    "pycharm": {
     "name": "#%%\n"
    }
   }
  },
  {
   "cell_type": "code",
   "execution_count": 10,
   "outputs": [],
   "source": [
    "typeEncoder = LabelEncoder()\n",
    "manufacturerEncoder = LabelEncoder()\n",
    "colorEncoder = LabelEncoder()\n",
    "driveEncoder = LabelEncoder()\n",
    "fuelEncoder = LabelEncoder()\n",
    "modelEncoder = LabelEncoder()\n",
    "titleStatusEncoder = LabelEncoder()\n",
    "transmissionEncoder = LabelEncoder()\n",
    "conditionEncoder = LabelEncoder()\n",
    "stateEncoder = LabelEncoder()\n",
    "\n",
    "dataFrame[\"type\"] = typeEncoder.fit_transform(dataFrame['type'])\n",
    "dataFrame[\"manufacturer\"] = manufacturerEncoder.fit_transform(dataFrame['manufacturer'])\n",
    "dataFrame['paint_color'] = colorEncoder.fit_transform(dataFrame['paint_color'])\n",
    "dataFrame['drive'] = driveEncoder.fit_transform(dataFrame['drive'])\n",
    "dataFrame[\"fuel\"] = fuelEncoder.fit_transform(dataFrame['fuel'])\n",
    "dataFrame[\"title_status\"] = titleStatusEncoder.fit_transform(dataFrame['title_status'])\n",
    "dataFrame['transmission'] = transmissionEncoder.fit_transform(dataFrame['transmission'])\n",
    "dataFrame['condition'] = conditionEncoder.fit_transform(dataFrame['condition'])\n",
    "dataFrame['state'] = stateEncoder.fit_transform(dataFrame['state'])\n",
    "dataFrame['model'] = modelEncoder.fit_transform(dataFrame['model'])"
   ],
   "metadata": {
    "collapsed": false,
    "pycharm": {
     "name": "#%%\n"
    }
   }
  },
  {
   "cell_type": "code",
   "execution_count": 11,
   "outputs": [
    {
     "data": {
      "text/plain": "    price    year  manufacturer  model  condition cylinders  fuel  odometer  \\\n31  15000  2013.0            13   4513          0         6     2  128000.0   \n32  27990  2012.0            14   8840          2         8     2   68696.0   \n33  34590  2016.0             7   8963          2         6     2   29499.0   \n34  35000  2019.0            38   9625          0         6     2   43000.0   \n35  29990  2016.0             7   2905          2         6     2   17302.0   \n\n    title_status  transmission  drive  type  paint_color  state  \n31             0             0      2    10            0      1  \n32             0             2      0     8            0      1  \n33             0             2      0     8            9      1  \n34             0             0      0    10            5      1  \n35             0             2      0     8            8      1  ",
      "text/html": "<div>\n<style scoped>\n    .dataframe tbody tr th:only-of-type {\n        vertical-align: middle;\n    }\n\n    .dataframe tbody tr th {\n        vertical-align: top;\n    }\n\n    .dataframe thead th {\n        text-align: right;\n    }\n</style>\n<table border=\"1\" class=\"dataframe\">\n  <thead>\n    <tr style=\"text-align: right;\">\n      <th></th>\n      <th>price</th>\n      <th>year</th>\n      <th>manufacturer</th>\n      <th>model</th>\n      <th>condition</th>\n      <th>cylinders</th>\n      <th>fuel</th>\n      <th>odometer</th>\n      <th>title_status</th>\n      <th>transmission</th>\n      <th>drive</th>\n      <th>type</th>\n      <th>paint_color</th>\n      <th>state</th>\n    </tr>\n  </thead>\n  <tbody>\n    <tr>\n      <th>31</th>\n      <td>15000</td>\n      <td>2013.0</td>\n      <td>13</td>\n      <td>4513</td>\n      <td>0</td>\n      <td>6</td>\n      <td>2</td>\n      <td>128000.0</td>\n      <td>0</td>\n      <td>0</td>\n      <td>2</td>\n      <td>10</td>\n      <td>0</td>\n      <td>1</td>\n    </tr>\n    <tr>\n      <th>32</th>\n      <td>27990</td>\n      <td>2012.0</td>\n      <td>14</td>\n      <td>8840</td>\n      <td>2</td>\n      <td>8</td>\n      <td>2</td>\n      <td>68696.0</td>\n      <td>0</td>\n      <td>2</td>\n      <td>0</td>\n      <td>8</td>\n      <td>0</td>\n      <td>1</td>\n    </tr>\n    <tr>\n      <th>33</th>\n      <td>34590</td>\n      <td>2016.0</td>\n      <td>7</td>\n      <td>8963</td>\n      <td>2</td>\n      <td>6</td>\n      <td>2</td>\n      <td>29499.0</td>\n      <td>0</td>\n      <td>2</td>\n      <td>0</td>\n      <td>8</td>\n      <td>9</td>\n      <td>1</td>\n    </tr>\n    <tr>\n      <th>34</th>\n      <td>35000</td>\n      <td>2019.0</td>\n      <td>38</td>\n      <td>9625</td>\n      <td>0</td>\n      <td>6</td>\n      <td>2</td>\n      <td>43000.0</td>\n      <td>0</td>\n      <td>0</td>\n      <td>0</td>\n      <td>10</td>\n      <td>5</td>\n      <td>1</td>\n    </tr>\n    <tr>\n      <th>35</th>\n      <td>29990</td>\n      <td>2016.0</td>\n      <td>7</td>\n      <td>2905</td>\n      <td>2</td>\n      <td>6</td>\n      <td>2</td>\n      <td>17302.0</td>\n      <td>0</td>\n      <td>2</td>\n      <td>0</td>\n      <td>8</td>\n      <td>8</td>\n      <td>1</td>\n    </tr>\n  </tbody>\n</table>\n</div>"
     },
     "execution_count": 11,
     "metadata": {},
     "output_type": "execute_result"
    }
   ],
   "source": [
    "dataFrame['cylinders']=dataFrame['cylinders'].apply(lambda x:x.split(' ')[0] if x!=\"other\" else 0)\n",
    "dataFrame.head()"
   ],
   "metadata": {
    "collapsed": false,
    "pycharm": {
     "name": "#%%\n"
    }
   }
  },
  {
   "cell_type": "code",
   "execution_count": 12,
   "outputs": [],
   "source": [
    "X = dataFrame.drop('price', axis = 1)\n",
    "Y = dataFrame['price']\n",
    "\n",
    "X_train, X_test, y_train, y_test = train_test_split(X, Y, test_size = 0.2, random_state = 25)"
   ],
   "metadata": {
    "collapsed": false,
    "pycharm": {
     "name": "#%%\n"
    }
   }
  },
  {
   "cell_type": "code",
   "execution_count": 13,
   "outputs": [],
   "source": [
    "def train(x, y, model):\n",
    "    model.fit(x,y)\n",
    "    return model\n",
    "\n",
    "def score(x, y, model):\n",
    "    return model.score(x, y)"
   ],
   "metadata": {
    "collapsed": false,
    "pycharm": {
     "name": "#%%\n"
    }
   }
  },
  {
   "cell_type": "code",
   "execution_count": 14,
   "outputs": [
    {
     "name": "stdout",
     "output_type": "stream",
     "text": [
      "Linear Regression :  0.40423268065738005\n"
     ]
    }
   ],
   "source": [
    "ModelLinearRegression = train(X_train, y_train, LinearRegression())\n",
    "print(\"Linear Regression : \",score(X_test, y_test, ModelLinearRegression))"
   ],
   "metadata": {
    "collapsed": false,
    "pycharm": {
     "name": "#%%\n"
    }
   }
  },
  {
   "cell_type": "code",
   "execution_count": 29,
   "outputs": [
    {
     "name": "stdout",
     "output_type": "stream",
     "text": [
      "Random Forest :  0.8972148205746237\n"
     ]
    }
   ],
   "source": [
    "ModelRandomForest = train(X_train, y_train, RandomForestRegressor())\n",
    "print(\"Random Forest : \",score(X_test, y_test, ModelRandomForest))"
   ],
   "metadata": {
    "collapsed": false,
    "pycharm": {
     "name": "#%%\n"
    }
   }
  },
  {
   "cell_type": "code",
   "execution_count": 18,
   "outputs": [
    {
     "name": "stdout",
     "output_type": "stream",
     "text": [
      "Random Forest :  0.5807781774119936\n"
     ]
    }
   ],
   "source": [
    "ModelKNN = train(X_train, y_train, KNeighborsRegressor())\n",
    "print(\"Random Forest : \",score(X_test, y_test, ModelKNN))"
   ],
   "metadata": {
    "collapsed": false,
    "pycharm": {
     "name": "#%%\n"
    }
   }
  },
  {
   "cell_type": "code",
   "execution_count": 28,
   "outputs": [
    {
     "data": {
      "text/plain": "array([0.80506802, 0.88206143, 0.862469  ])"
     },
     "execution_count": 28,
     "metadata": {},
     "output_type": "execute_result"
    }
   ],
   "source": [
    "scores = cross_val_score(RandomForestRegressor(), X, Y, cv=3)\n",
    "scores"
   ],
   "metadata": {
    "collapsed": false,
    "pycharm": {
     "name": "#%%\n"
    }
   }
  },
  {
   "cell_type": "code",
   "execution_count": null,
   "outputs": [],
   "source": [],
   "metadata": {
    "collapsed": false,
    "pycharm": {
     "name": "#%%\n"
    }
   }
  }
 ],
 "metadata": {
  "kernelspec": {
   "display_name": "Python 3",
   "language": "python",
   "name": "python3"
  },
  "language_info": {
   "codemirror_mode": {
    "name": "ipython",
    "version": 2
   },
   "file_extension": ".py",
   "mimetype": "text/x-python",
   "name": "python",
   "nbconvert_exporter": "python",
   "pygments_lexer": "ipython2",
   "version": "2.7.6"
  }
 },
 "nbformat": 4,
 "nbformat_minor": 0
}